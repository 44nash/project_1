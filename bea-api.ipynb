{
 "cells": [
  {
   "cell_type": "code",
   "execution_count": 2,
   "metadata": {},
   "outputs": [],
   "source": [
    "# imports - just pulled from the rental analysis homework\n",
    "import panel as pn\n",
    "pn.extension('plotly')\n",
    "import plotly.express as px\n",
    "import pandas as pd\n",
    "import hvplot.pandas\n",
    "import matplotlib.pyplot as plt\n",
    "import numpy as np\n",
    "import os\n",
    "from pathlib import Path\n",
    "from dotenv import load_dotenv\n",
    "import requests\n",
    "import json\n",
    "\n",
    "import warnings\n",
    "warnings.filterwarnings('ignore')"
   ]
  },
  {
   "cell_type": "code",
   "execution_count": 3,
   "metadata": {},
   "outputs": [
    {
     "name": "stdout",
     "output_type": "stream",
     "text": [
      "651FC7E9-5112-45A9-9C82-80A2072BF050\n"
     ]
    }
   ],
   "source": [
    "#Tyler FRED API\n",
    "#.gitignore file under Tyler_Keys\n",
    "\n",
    "load_dotenv('Tyler_Keys/marcus_keys.env')\n",
    "bea_data_api = os.getenv(\"bea_data_api\")\n",
    "print(bea_data_api)"
   ]
  },
  {
   "cell_type": "code",
   "execution_count": 4,
   "metadata": {},
   "outputs": [
    {
     "name": "stdout",
     "output_type": "stream",
     "text": [
      "{\n",
      "    \"BEAAPI\": {\n",
      "        \"Request\": {\n",
      "            \"RequestParam\": [\n",
      "                {\n",
      "                    \"ParameterName\": \"USERID\",\n",
      "                    \"ParameterValue\": \"651FC7E9-5112-45A9-9C82-80A2072BF050\"\n",
      "                },\n",
      "                {\n",
      "                    \"ParameterName\": \"METHOD\",\n",
      "                    \"ParameterValue\": \"GETDATASETLIST\"\n",
      "                }\n",
      "            ]\n",
      "        },\n",
      "        \"Results\": {\n",
      "            \"Dataset\": [\n",
      "                {\n",
      "                    \"DatasetName\": \"NIPA\",\n",
      "                    \"DatasetDescription\": \"Standard NIPA tables\"\n",
      "                },\n",
      "                {\n",
      "                    \"DatasetName\": \"NIUnderlyingDetail\",\n",
      "                    \"DatasetDescription\": \"Standard NI underlying detail tables\"\n",
      "                },\n",
      "                {\n",
      "                    \"DatasetName\": \"MNE\",\n",
      "                    \"DatasetDescription\": \"Multinational Enterprises\"\n",
      "                },\n",
      "                {\n",
      "                    \"DatasetName\": \"FixedAssets\",\n",
      "                    \"DatasetDescription\": \"Standard Fixed Assets tables\"\n",
      "                },\n",
      "                {\n",
      "                    \"DatasetName\": \"ITA\",\n",
      "                    \"DatasetDescription\": \"International Transactions Accounts\"\n",
      "                },\n",
      "                {\n",
      "                    \"DatasetName\": \"IIP\",\n",
      "                    \"DatasetDescription\": \"International Investment Position\"\n",
      "                },\n",
      "                {\n",
      "                    \"DatasetName\": \"InputOutput\",\n",
      "                    \"DatasetDescription\": \"Input-Output Data\"\n",
      "                },\n",
      "                {\n",
      "                    \"DatasetName\": \"IntlServTrade\",\n",
      "                    \"DatasetDescription\": \"International Services Trade\"\n",
      "                },\n",
      "                {\n",
      "                    \"DatasetName\": \"GDPbyIndustry\",\n",
      "                    \"DatasetDescription\": \"GDP by Industry\"\n",
      "                },\n",
      "                {\n",
      "                    \"DatasetName\": \"Regional\",\n",
      "                    \"DatasetDescription\": \"Regional data sets\"\n",
      "                },\n",
      "                {\n",
      "                    \"DatasetName\": \"UnderlyingGDPbyIndustry\",\n",
      "                    \"DatasetDescription\": \"Underlying GDP by Industry\"\n",
      "                },\n",
      "                {\n",
      "                    \"DatasetName\": \"APIDatasetMetaData\",\n",
      "                    \"DatasetDescription\": \"Metadata about other API datasets\"\n",
      "                }\n",
      "            ]\n",
      "        }\n",
      "    }\n",
      "}\n"
     ]
    }
   ],
   "source": [
    "bea_api_url = \"https://apps.bea.gov/api/data/?&UserID=\"+bea_data_api+\"&method=GETDATASETLIST&\"\n",
    "response_data = requests.get(bea_api_url).json()\n",
    "print(json.dumps(response_data, indent=4))"
   ]
  },
  {
   "cell_type": "code",
   "execution_count": null,
   "metadata": {},
   "outputs": [],
   "source": []
  }
 ],
 "metadata": {
  "kernelspec": {
   "display_name": "Python 3",
   "language": "python",
   "name": "python3"
  },
  "language_info": {
   "codemirror_mode": {
    "name": "ipython",
    "version": 3
   },
   "file_extension": ".py",
   "mimetype": "text/x-python",
   "name": "python",
   "nbconvert_exporter": "python",
   "pygments_lexer": "ipython3",
   "version": "3.7.9"
  }
 },
 "nbformat": 4,
 "nbformat_minor": 5
}
